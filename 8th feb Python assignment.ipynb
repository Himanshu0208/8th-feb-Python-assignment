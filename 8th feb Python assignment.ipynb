{
 "cells": [
  {
   "cell_type": "markdown",
   "id": "27ef4117-6af2-4bcd-a3d2-72c95edf1e4f",
   "metadata": {},
   "source": [
    "## __Ques1__\n",
    "Abstraction is one of the core concepts of object-oriented programming (OOPs) that refers to the ability to focus on the essential features of an object while ignoring its implementation details. It is a way to manage complexity by simplifying an object's behavior and hiding its implementation details."
   ]
  },
  {
   "cell_type": "code",
   "execution_count": 2,
   "id": "6eeb2c82-265e-4213-86dd-689019b9c695",
   "metadata": {},
   "outputs": [],
   "source": [
    "from abc import ABC , abstractmethod\n",
    "\n",
    "class Class1(ABC):\n",
    "    @abstractmethod\n",
    "    def func1(self):\n",
    "        pass"
   ]
  },
  {
   "cell_type": "code",
   "execution_count": 15,
   "id": "1cb1bd62-e36a-4e4c-be31-362a9e5a553e",
   "metadata": {},
   "outputs": [],
   "source": [
    "class Class2(Class1):\n",
    "    def func1(self):\n",
    "        print('Hello')"
   ]
  },
  {
   "cell_type": "code",
   "execution_count": 16,
   "id": "1e3d3ef6-888c-460a-ae0e-eadf922b3008",
   "metadata": {},
   "outputs": [
    {
     "name": "stdout",
     "output_type": "stream",
     "text": [
      "Hello\n"
     ]
    }
   ],
   "source": [
    "obj1 = Class2()\n",
    "obj1.func1()"
   ]
  },
  {
   "cell_type": "markdown",
   "id": "23cdd572-a31a-4a85-8bcb-c212618f96b6",
   "metadata": {},
   "source": [
    "# __Ques2__\n",
    "__Abstraction__ is the process of hiding implementation details and only exposing essential features to the user. This helps to simplify complexity and make it easier for the user to interact with the system. Abstraction is achieved through the use of abstract classes, interfaces, and methods.\n",
    "<br>\n",
    "__Encapsulation__, on the other hand, refers to the practice of hiding data within a class and only exposing it through methods. This helps to prevent direct access to the data and ensures that it is only modified in a controlled way. Encapsulation is achieved through the use of access modifiers such as private, protected, and public."
   ]
  },
  {
   "cell_type": "code",
   "execution_count": 20,
   "id": "fb25ca01-1601-48f2-bac9-4de591e80403",
   "metadata": {},
   "outputs": [],
   "source": [
    "from abc import ABC , abstractmethod\n",
    "\n",
    "class Class1(ABC):\n",
    "    # abstraction\n",
    "    @abstractmethod\n",
    "    def func1(self):\n",
    "        pass\n",
    "\n",
    "class Class2(Class1):\n",
    "    def __init__(self,name):\n",
    "        # Encapsulation\n",
    "        self.__name = name\n",
    "    \n",
    "    def func1(self):\n",
    "        print('Hello %s'%(self.__name))"
   ]
  },
  {
   "cell_type": "code",
   "execution_count": 21,
   "id": "b9e39d62-187c-4e9b-969c-022084e03d20",
   "metadata": {},
   "outputs": [
    {
     "name": "stdout",
     "output_type": "stream",
     "text": [
      "Hello Himanshu\n"
     ]
    }
   ],
   "source": [
    "obj3 = Class2('Himanshu')\n",
    "obj3.func1()"
   ]
  },
  {
   "cell_type": "markdown",
   "id": "289a9b28-6d0f-4df3-83ff-926f95adcd3d",
   "metadata": {},
   "source": [
    "# __Ques3__\n",
    "The 'abc' module in Python stands for \"Abstract Base Classes\" and it provides a way to define abstract classes in Python. Abstract classes are classes that cannot be instantiated, but can be subclassed. They are used to define a set of methods and properties that any subclass must implement in order to be considered a valid implementation of that class.<br>\n",
    "The 'abc' module enforce programmers to have some common set of methods which all subclasses should contain"
   ]
  },
  {
   "cell_type": "markdown",
   "id": "7d626e46-ac8e-47ca-8570-fb9b53c40779",
   "metadata": {},
   "source": [
    "# __Ques4__\n",
    "Data abstraction in Python is the process of hiding implementation details of a data type and exposing only the essential features of the data type to the user. The user of the data type does not need to know the underlying implementation details, they only need to know how to use the data type to achieve a specific task. This simplifies the usage of the data type and allows the user to focus on the problem they are trying to solve, rather than the details of the data type.<br>\n",
    "In the below example we cannot directly see the value of var1 we are using function to see that"
   ]
  },
  {
   "cell_type": "code",
   "execution_count": 22,
   "id": "cba7d127-8ac7-4349-aba2-3e00eb99a9c8",
   "metadata": {},
   "outputs": [],
   "source": [
    "class Class1:\n",
    "    def __init__(self ,var1):\n",
    "        self.__var1 = var1\n",
    "        \n",
    "    def show(self):\n",
    "        return self.__var1"
   ]
  },
  {
   "cell_type": "code",
   "execution_count": 23,
   "id": "b5f2493d-eead-4f63-83c7-7f25cc8ccd0b",
   "metadata": {},
   "outputs": [],
   "source": [
    "obj4 = Class1('pwskills')"
   ]
  },
  {
   "cell_type": "code",
   "execution_count": 25,
   "id": "66dd18ba-9b90-4fe4-9dc3-e4c41daa232f",
   "metadata": {},
   "outputs": [
    {
     "data": {
      "text/plain": [
       "'pwskills'"
      ]
     },
     "execution_count": 25,
     "metadata": {},
     "output_type": "execute_result"
    }
   ],
   "source": [
    "obj4.show()"
   ]
  },
  {
   "cell_type": "code",
   "execution_count": 24,
   "id": "1df5e028-d670-4cc9-bb12-6205c674036c",
   "metadata": {},
   "outputs": [
    {
     "ename": "AttributeError",
     "evalue": "'Class1' object has no attribute 'var1'",
     "output_type": "error",
     "traceback": [
      "\u001b[0;31m---------------------------------------------------------------------------\u001b[0m",
      "\u001b[0;31mAttributeError\u001b[0m                            Traceback (most recent call last)",
      "Cell \u001b[0;32mIn[24], line 1\u001b[0m\n\u001b[0;32m----> 1\u001b[0m \u001b[43mobj4\u001b[49m\u001b[38;5;241;43m.\u001b[39;49m\u001b[43mvar1\u001b[49m\n",
      "\u001b[0;31mAttributeError\u001b[0m: 'Class1' object has no attribute 'var1'"
     ]
    }
   ],
   "source": [
    "obj4.var1"
   ]
  },
  {
   "cell_type": "markdown",
   "id": "3cc99d8d-a35d-467e-a83e-38493e439795",
   "metadata": {},
   "source": [
    "# __Ques5__"
   ]
  },
  {
   "cell_type": "code",
   "execution_count": null,
   "id": "69f93013-fce3-46ce-b816-df00268302aa",
   "metadata": {},
   "outputs": [],
   "source": []
  }
 ],
 "metadata": {
  "kernelspec": {
   "display_name": "Python 3 (ipykernel)",
   "language": "python",
   "name": "python3"
  },
  "language_info": {
   "codemirror_mode": {
    "name": "ipython",
    "version": 3
   },
   "file_extension": ".py",
   "mimetype": "text/x-python",
   "name": "python",
   "nbconvert_exporter": "python",
   "pygments_lexer": "ipython3",
   "version": "3.10.8"
  }
 },
 "nbformat": 4,
 "nbformat_minor": 5
}
